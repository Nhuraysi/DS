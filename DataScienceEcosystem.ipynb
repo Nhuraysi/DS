{
 "cells": [
  {
   "attachments": {},
   "cell_type": "markdown",
   "id": "8c460815-e3b3-4ae3-a61a-a9ad8e5a4893",
   "metadata": {},
   "source": [
    "# Data Science Tools and Ecosystem \n",
    "\n",
    "In this notebook, Data Science Tools and Ecosystem are summarized what I have learned during the data science tools course.\n"
   ]
  },
  {
   "cell_type": "markdown",
   "id": "0cb3b140-f84b-4448-aa09-70b27aa1ae3e",
   "metadata": {},
   "source": [
    "**Some of the popular languages that Data Scientists use are:**\n",
    "\n",
    "1. English\n",
    "2. Arabic\n",
    "3. French\n",
    "4. Spanish"
   ]
  },
  {
   "cell_type": "markdown",
   "id": "09751311-19fa-441e-b609-6a2c1e94476b",
   "metadata": {},
   "source": [
    "**Some of the commonly used libraries used by Data Scientists include:**\n",
    "\n",
    "1. TensorFlow\n",
    "2. NumPy\n",
    "3. SciPy\n",
    "4. Pandas"
   ]
  },
  {
   "cell_type": "markdown",
   "id": "9d8a36d7-c097-4317-b34f-1f3ebc814a5c",
   "metadata": {},
   "source": [
    "| Data Science Tools |\n",
    "| ------ |\n",
    "| Weka |\n",
    "| Scrapy |\n",
    "| Pandas |"
   ]
  },
  {
   "cell_type": "markdown",
   "id": "34e688b9-d68d-4242-9c4f-ddb92f7d275d",
   "metadata": {},
   "source": [
    "### Below are a few examples of evaluating arithmetic expressions in Python.\n"
   ]
  },
  {
   "cell_type": "code",
   "execution_count": 2,
   "id": "6cb55a67-9425-414c-bd28-6bf809ccd98e",
   "metadata": {},
   "outputs": [
    {
     "name": "stdout",
     "output_type": "stream",
     "text": [
      "17\n",
      "True\n"
     ]
    }
   ],
   "source": [
    "#This a simple arithmetic expression to mutiply then add integers\n",
    "eval = (3*4)+5\n",
    "print(eval)\n",
    "print(eval==17)"
   ]
  },
  {
   "cell_type": "code",
   "execution_count": 4,
   "id": "f9877698-da8c-40cd-a824-19f64a71bcbf",
   "metadata": {},
   "outputs": [
    {
     "name": "stdout",
     "output_type": "stream",
     "text": [
      "3.3333333333333335\n"
     ]
    }
   ],
   "source": [
    "#This will convert 200 minutes to hours by diving by 60\n",
    "\n",
    "print(200 / 60)"
   ]
  },
  {
   "cell_type": "markdown",
   "id": "bb5437c9",
   "metadata": {},
   "source": [
    "**Objectives:** List popular languages for Data Science\n",
    "\n",
    "- Python\n",
    "- R\n",
    "- Java\n",
    "- Julia\n",
    "- Swift\n"
   ]
  },
  {
   "cell_type": "markdown",
   "id": "931816f6",
   "metadata": {},
   "source": [
    "## Author\n",
    "Najwa Huraysi"
   ]
  }
 ],
 "metadata": {
  "kernelspec": {
   "display_name": "Python 3 (ipykernel)",
   "language": "python",
   "name": "python3"
  },
  "language_info": {
   "codemirror_mode": {
    "name": "ipython",
    "version": 3
   },
   "file_extension": ".py",
   "mimetype": "text/x-python",
   "name": "python",
   "nbconvert_exporter": "python",
   "pygments_lexer": "ipython3",
   "version": "3.12.3"
  }
 },
 "nbformat": 4,
 "nbformat_minor": 5
}
